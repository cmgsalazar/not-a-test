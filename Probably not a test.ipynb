{
 "cells": [
  {
   "cell_type": "markdown",
   "metadata": {},
   "source": [
    "# Introduction\n",
    "\n",
    "## Is this a test? It looks like a test!\n",
    "\n",
    "**It isn't a test.** I just want to see where you're at and see where to direct resources.\n",
    "\n",
    "**🚨🚨🚨Turn off your internet🚨🚨🚨** until you get to APIs and scraping. No help from Google, AI, the internet at large or anything that isn't already on your computer.\n",
    "\n",
    "## Feel free to skip around\n",
    "\n",
    "Later questions aren't necessarily more difficult - for example, maybe you find pandas easier than APIs. Maybe you find the *second* pandas section easier than the first. Maybe Playwright is fresh in your brain so you go right to that first, whatever works for you.\n",
    "\n",
    "## Table of contents\n",
    "\n",
    "- [Using your computer](#📝📝📝-Using-your-computer!)\n",
    "- [Definitions](#📝📝📝-Definitions!)\n",
    "- [Data structures](#📝📝📝-Data-structures!)\n",
    "- [Pandas](#📝📝📝-Pandas!)\n",
    "- [More pandas](#📝📝📝-More-pandas!)\n",
    "- [SQL](#📝📝📝-SQL!)\n",
    "- [APIs](#📝📝📝-APIs!)\n",
    "- [Scraping (BeautifulSoup)](#📝📝📝-Scraping!)\n",
    "- [More scraping (Playwright)](#📝📝📝-More-scraping!)"
   ]
  },
  {
   "cell_type": "markdown",
   "metadata": {},
   "source": [
    "# 📝📝📝 Using your computer!"
   ]
  },
  {
   "cell_type": "markdown",
   "metadata": {},
   "source": [
    "### What is the difference between using `brew` and `pip` to install something on your computer?"
   ]
  },
  {
   "cell_type": "code",
   "execution_count": null,
   "metadata": {},
   "outputs": [],
   "source": []
  },
  {
   "cell_type": "markdown",
   "metadata": {},
   "source": [
    "### If you see the following instructions below, what do you type and where do you type it?\n",
    "\n",
    "> Serde is a framework for serializing and deserializing Rust data structures efficiently and generically.\n",
    ">\n",
    "> ### Installation instructions\n",
    ">\n",
    "> ```\n",
    "> $ cargo add serde\n",
    "> ```\n",
    ">\n",
    "> ### Usage details\n",
    "> \n",
    "> ...\n",
    "\n",
    "Don't actually run it, just put it in a comment."
   ]
  },
  {
   "cell_type": "code",
   "execution_count": null,
   "metadata": {},
   "outputs": [],
   "source": []
  },
  {
   "cell_type": "markdown",
   "metadata": {},
   "source": [
    "### When you're on the command line, what is the command to go into your `Desktop`?"
   ]
  },
  {
   "cell_type": "code",
   "execution_count": null,
   "metadata": {},
   "outputs": [],
   "source": []
  },
  {
   "cell_type": "markdown",
   "metadata": {},
   "source": [
    "### What is the command to go 'up' one directory?"
   ]
  },
  {
   "cell_type": "code",
   "execution_count": null,
   "metadata": {},
   "outputs": [],
   "source": []
  },
  {
   "cell_type": "markdown",
   "metadata": {},
   "source": [
    "### What does `ls -lah` do?"
   ]
  },
  {
   "cell_type": "code",
   "execution_count": null,
   "metadata": {},
   "outputs": [],
   "source": []
  },
  {
   "cell_type": "markdown",
   "metadata": {},
   "source": [
    "### What is `~/.zshrc` for?"
   ]
  },
  {
   "cell_type": "code",
   "execution_count": null,
   "metadata": {},
   "outputs": [],
   "source": []
  },
  {
   "cell_type": "markdown",
   "metadata": {},
   "source": [
    "# 📝📝📝 Definitions!\n",
    "\n",
    "Write the answers as **comments**"
   ]
  },
  {
   "cell_type": "markdown",
   "metadata": {},
   "source": [
    "### What does an API do/what are they for?"
   ]
  },
  {
   "cell_type": "code",
   "execution_count": null,
   "metadata": {},
   "outputs": [],
   "source": []
  },
  {
   "cell_type": "markdown",
   "metadata": {},
   "source": [
    "### What is an API key?"
   ]
  },
  {
   "cell_type": "code",
   "execution_count": null,
   "metadata": {},
   "outputs": [],
   "source": []
  },
  {
   "cell_type": "markdown",
   "metadata": {},
   "source": [
    "### What file format do APIs usually provide us?"
   ]
  },
  {
   "cell_type": "code",
   "execution_count": null,
   "metadata": {},
   "outputs": [],
   "source": []
  },
  {
   "cell_type": "markdown",
   "metadata": {},
   "source": [
    "### What is Markdown?"
   ]
  },
  {
   "cell_type": "code",
   "execution_count": null,
   "metadata": {},
   "outputs": [],
   "source": []
  },
  {
   "cell_type": "markdown",
   "metadata": {},
   "source": [
    "### What is UTF-8/Unicode?"
   ]
  },
  {
   "cell_type": "code",
   "execution_count": null,
   "metadata": {},
   "outputs": [],
   "source": []
  },
  {
   "cell_type": "markdown",
   "metadata": {},
   "source": [
    "### What is an endpoint?"
   ]
  },
  {
   "cell_type": "code",
   "execution_count": null,
   "metadata": {},
   "outputs": [],
   "source": []
  },
  {
   "cell_type": "markdown",
   "metadata": {},
   "source": [
    "### What is the `PATH`?"
   ]
  },
  {
   "cell_type": "code",
   "execution_count": null,
   "metadata": {},
   "outputs": [],
   "source": []
  },
  {
   "cell_type": "markdown",
   "metadata": {},
   "source": [
    "### What does the `~` mean in `~/.zshrc`?"
   ]
  },
  {
   "cell_type": "code",
   "execution_count": null,
   "metadata": {},
   "outputs": [],
   "source": []
  },
  {
   "cell_type": "markdown",
   "metadata": {},
   "source": [
    "### What does the `.` mean in `~/.zshrc`?"
   ]
  },
  {
   "cell_type": "code",
   "execution_count": null,
   "metadata": {},
   "outputs": [],
   "source": []
  },
  {
   "cell_type": "markdown",
   "metadata": {},
   "source": [
    "# 📝📝📝 Data structures!\n",
    "\n",
    "Lists of lists and dictionaries and things like that."
   ]
  },
  {
   "cell_type": "code",
   "execution_count": 1,
   "metadata": {},
   "outputs": [],
   "source": [
    "data = {\n",
    "    'date': '2019-06-19',\n",
    "    'features': [\n",
    "        { 'city': 'Paris', 'coords': [48.85, 2.35], 'pop': 2.1 },\n",
    "        { 'city': 'Lima', 'coords': [-12.04, -77.04], 'pop': 10.7 },\n",
    "        { 'city': 'Moscow', 'coords': [55.75, 37.61], 'pop': 11.9 },\n",
    "    ] \n",
    "}"
   ]
  },
  {
   "cell_type": "markdown",
   "metadata": {},
   "source": [
    "### Print the keys that `data` has"
   ]
  },
  {
   "cell_type": "code",
   "execution_count": null,
   "metadata": {},
   "outputs": [],
   "source": []
  },
  {
   "cell_type": "markdown",
   "metadata": {},
   "source": [
    "### Print the date of the API response"
   ]
  },
  {
   "cell_type": "code",
   "execution_count": null,
   "metadata": {},
   "outputs": [],
   "source": []
  },
  {
   "cell_type": "markdown",
   "metadata": {},
   "source": [
    "### How many cities does `data` have in it?\n",
    "\n",
    "Don't just write the number, use Python to calculate it!"
   ]
  },
  {
   "cell_type": "code",
   "execution_count": null,
   "metadata": {},
   "outputs": [],
   "source": []
  },
  {
   "cell_type": "markdown",
   "metadata": {},
   "source": [
    "### Print each city's name."
   ]
  },
  {
   "cell_type": "code",
   "execution_count": null,
   "metadata": {},
   "outputs": [],
   "source": []
  },
  {
   "cell_type": "markdown",
   "metadata": {},
   "source": [
    "### Print each city's latitude\n",
    "\n",
    "That's the first number of the coordinates, e.g. `48.85`, `-12.04`, `55.75`."
   ]
  },
  {
   "cell_type": "code",
   "execution_count": null,
   "metadata": {},
   "outputs": [],
   "source": []
  },
  {
   "cell_type": "markdown",
   "metadata": {},
   "source": [
    "### Convert the list of cities to a dataframe"
   ]
  },
  {
   "cell_type": "code",
   "execution_count": null,
   "metadata": {},
   "outputs": [],
   "source": []
  },
  {
   "cell_type": "markdown",
   "metadata": {},
   "source": [
    "### How did you feel about this section? What did you know? What was tough? What was something you feel like you know but you just couldn't make work?\n",
    "\n",
    "Write your answer as a comment in the cell below"
   ]
  },
  {
   "cell_type": "code",
   "execution_count": null,
   "metadata": {},
   "outputs": [],
   "source": []
  },
  {
   "cell_type": "markdown",
   "metadata": {},
   "source": [
    "# 📝📝📝 Pandas!\n",
    "\n",
    "**Read in `1976-2016-president.csv`.** It's state-level results for each election from 1976-2016."
   ]
  },
  {
   "cell_type": "code",
   "execution_count": null,
   "metadata": {},
   "outputs": [],
   "source": []
  },
  {
   "cell_type": "markdown",
   "metadata": {},
   "source": [
    "Note that CANDIDATE VOTES are the votes for that candidate, while TOTAL VOTES is the number of votes in that state. \n",
    "\n",
    "**For example, in looking at the first few rows:** in 1976 there were 1,182,850 total votes cast in Alabama, while 659,170 where for Jimmy Carter, 504,070 were for Gerald Ford, 9,198 were for Lester Maddox, etc."
   ]
  },
  {
   "cell_type": "markdown",
   "metadata": {},
   "source": [
    "### How many rows does this dataset have?"
   ]
  },
  {
   "cell_type": "code",
   "execution_count": null,
   "metadata": {},
   "outputs": [],
   "source": []
  },
  {
   "cell_type": "markdown",
   "metadata": {},
   "source": [
    "### How many total votes have been cast in the United States between 1976 and 2016?"
   ]
  },
  {
   "cell_type": "code",
   "execution_count": null,
   "metadata": {},
   "outputs": [],
   "source": []
  },
  {
   "cell_type": "markdown",
   "metadata": {},
   "source": [
    "### How many total votes have been cast for **write-in candidates?**"
   ]
  },
  {
   "cell_type": "code",
   "execution_count": null,
   "metadata": {},
   "outputs": [],
   "source": []
  },
  {
   "cell_type": "markdown",
   "metadata": {},
   "source": [
    "### Show me data for Vermont in 2016"
   ]
  },
  {
   "cell_type": "code",
   "execution_count": null,
   "metadata": {},
   "outputs": [],
   "source": []
  },
  {
   "cell_type": "markdown",
   "metadata": {},
   "source": [
    "### How many total votes have been cast for each party?\n",
    "\n",
    "When you do this, pandas won't show you all the data. That's fine!"
   ]
  },
  {
   "cell_type": "code",
   "execution_count": null,
   "metadata": {},
   "outputs": [],
   "source": []
  },
  {
   "cell_type": "markdown",
   "metadata": {},
   "source": [
    "### Create a new column called `pct_vote` that is the percent of the vote in that state the candidate received"
   ]
  },
  {
   "cell_type": "code",
   "execution_count": null,
   "metadata": {},
   "outputs": [],
   "source": []
  },
  {
   "cell_type": "markdown",
   "metadata": {},
   "source": [
    "### Which candidates in what years got the highest percent of a state's votes?"
   ]
  },
  {
   "cell_type": "code",
   "execution_count": null,
   "metadata": {},
   "outputs": [],
   "source": []
  },
  {
   "cell_type": "markdown",
   "metadata": {},
   "source": [
    "### Save the dataframe as `votes-cleaned.csv`"
   ]
  },
  {
   "cell_type": "code",
   "execution_count": null,
   "metadata": {},
   "outputs": [],
   "source": []
  },
  {
   "cell_type": "markdown",
   "metadata": {},
   "source": [
    "### How did you feel about this section? What did you know? What was tough? What was something you feel like you know but you just couldn't make work?\n",
    "\n",
    "Write your answer as a comment in the cell below"
   ]
  },
  {
   "cell_type": "code",
   "execution_count": null,
   "metadata": {},
   "outputs": [],
   "source": []
  },
  {
   "cell_type": "markdown",
   "metadata": {},
   "source": [
    "# 📝📝📝 More pandas!\n",
    "\n",
    "**Read in `powerplants.csv`.** It's powerplants in the United States.\n",
    "\n",
    "* `Plant_Name` is the name of the power plant\n",
    "* `Utility_Na` is the name of the owner of the power plant\n",
    "* `City`, `County`, `StateName`, `Zip`\n",
    "* `PrimSource` is what kind of energy source it uses (nuclear, coal, etc)\n",
    "* `Total_MW` is the total amount of energy produces"
   ]
  },
  {
   "cell_type": "code",
   "execution_count": null,
   "metadata": {},
   "outputs": [],
   "source": []
  },
  {
   "cell_type": "markdown",
   "metadata": {},
   "source": [
    "### What are the different types of energy sources in this dataset?"
   ]
  },
  {
   "cell_type": "code",
   "execution_count": null,
   "metadata": {},
   "outputs": [],
   "source": []
  },
  {
   "cell_type": "markdown",
   "metadata": {},
   "source": [
    "### What is the most common type of power plant in the United States?"
   ]
  },
  {
   "cell_type": "code",
   "execution_count": null,
   "metadata": {},
   "outputs": [],
   "source": []
  },
  {
   "cell_type": "markdown",
   "metadata": {},
   "source": [
    "### Make a graph of it, with the longest bar on the top."
   ]
  },
  {
   "cell_type": "code",
   "execution_count": null,
   "metadata": {},
   "outputs": [],
   "source": []
  },
  {
   "cell_type": "markdown",
   "metadata": {},
   "source": [
    "### What type of power plant produces the most energy in the United States?"
   ]
  },
  {
   "cell_type": "code",
   "execution_count": null,
   "metadata": {},
   "outputs": [],
   "source": []
  },
  {
   "cell_type": "markdown",
   "metadata": {},
   "source": [
    "### What US state has the most power plants?"
   ]
  },
  {
   "cell_type": "code",
   "execution_count": null,
   "metadata": {},
   "outputs": [],
   "source": []
  },
  {
   "cell_type": "markdown",
   "metadata": {},
   "source": [
    "### What three US states produce the least energy?"
   ]
  },
  {
   "cell_type": "code",
   "execution_count": null,
   "metadata": {},
   "outputs": [],
   "source": []
  },
  {
   "cell_type": "markdown",
   "metadata": {},
   "source": [
    "### What state has the most hydroelectric power plants?"
   ]
  },
  {
   "cell_type": "code",
   "execution_count": null,
   "metadata": {},
   "outputs": [],
   "source": []
  },
  {
   "cell_type": "markdown",
   "metadata": {},
   "source": [
    "### List all of the nuclear powerplants in New York."
   ]
  },
  {
   "cell_type": "code",
   "execution_count": null,
   "metadata": {},
   "outputs": [],
   "source": []
  },
  {
   "cell_type": "markdown",
   "metadata": {},
   "source": [
    "### What is the most common type of powerplant in Texas?"
   ]
  },
  {
   "cell_type": "code",
   "execution_count": null,
   "metadata": {},
   "outputs": [],
   "source": []
  },
  {
   "cell_type": "markdown",
   "metadata": {},
   "source": [
    "### What type of power plant produces the most power in California?"
   ]
  },
  {
   "cell_type": "code",
   "execution_count": null,
   "metadata": {},
   "outputs": [],
   "source": []
  },
  {
   "cell_type": "markdown",
   "metadata": {},
   "source": [
    "### How did you feel about this section? What did you know? What was tough? What was something you feel like you know but you just couldn't make work?\n",
    "\n",
    "Write your answer as a comment in the cell below"
   ]
  },
  {
   "cell_type": "code",
   "execution_count": null,
   "metadata": {},
   "outputs": [],
   "source": []
  },
  {
   "cell_type": "markdown",
   "metadata": {},
   "source": [
    "# 📝📝📝 APIs!\n",
    "\n",
    "**🚨🚨🚨You can turn on your internet🚨🚨🚨**, but you can only access the page(s) mentioned below.\n",
    "\n",
    "We're going to be using the [OpenLibrary search](https://openlibrary.org/dev/docs/api/search) API.\n",
    "\n",
    "### What is the URL to search for books with `\"Python\"` in their name?"
   ]
  },
  {
   "cell_type": "code",
   "execution_count": null,
   "metadata": {},
   "outputs": [],
   "source": []
  },
  {
   "cell_type": "markdown",
   "metadata": {},
   "source": [
    "### Search for books with `\"Python\"` in their name"
   ]
  },
  {
   "cell_type": "code",
   "execution_count": null,
   "metadata": {},
   "outputs": [],
   "source": []
  },
  {
   "cell_type": "markdown",
   "metadata": {},
   "source": [
    "### How many _total_ results were found?"
   ]
  },
  {
   "cell_type": "code",
   "execution_count": null,
   "metadata": {},
   "outputs": [],
   "source": []
  },
  {
   "cell_type": "markdown",
   "metadata": {},
   "source": [
    "### How many results were returned with this request?"
   ]
  },
  {
   "cell_type": "code",
   "execution_count": null,
   "metadata": {},
   "outputs": [],
   "source": []
  },
  {
   "cell_type": "markdown",
   "metadata": {},
   "source": [
    "### That isn't all of the books, right? Print out some more of them.\n",
    "\n",
    "It doesn't have to be _all_ of them. Remember, docs are [here](https://openlibrary.org/dev/docs/api/search)."
   ]
  },
  {
   "cell_type": "code",
   "execution_count": null,
   "metadata": {},
   "outputs": [],
   "source": []
  },
  {
   "cell_type": "markdown",
   "metadata": {},
   "source": [
    "### What is the URL to search for books with \"Python\" in their name by Wes McKinney?"
   ]
  },
  {
   "cell_type": "code",
   "execution_count": null,
   "metadata": {},
   "outputs": [],
   "source": []
  },
  {
   "cell_type": "markdown",
   "metadata": {},
   "source": [
    "### How did you feel about this section? What did you know? What was tough? What was something you feel like you know but you just couldn't make work?\n",
    "\n",
    "Write your answer as a comment in the cell below"
   ]
  },
  {
   "cell_type": "code",
   "execution_count": null,
   "metadata": {},
   "outputs": [],
   "source": []
  },
  {
   "cell_type": "markdown",
   "metadata": {},
   "source": [
    "# 📝📝📝 SQL!\n",
    "\n",
    "I've added code below to query a database for you, it puts the results right into pandas.\n",
    "\n",
    "It doesn't require you to start up Postgres or anything - it's a lightweight version of a SQL database called SQLite. It works almost the same way Postgres, though."
   ]
  },
  {
   "cell_type": "code",
   "execution_count": 57,
   "metadata": {},
   "outputs": [],
   "source": [
    "import sqlite3\n",
    "import pandas as pd\n",
    "\n",
    "connection = sqlite3.connect('bridges.sqlite')"
   ]
  },
  {
   "cell_type": "code",
   "execution_count": 56,
   "metadata": {},
   "outputs": [
    {
     "data": {
      "text/html": [
       "<div>\n",
       "<style scoped>\n",
       "    .dataframe tbody tr th:only-of-type {\n",
       "        vertical-align: middle;\n",
       "    }\n",
       "\n",
       "    .dataframe tbody tr th {\n",
       "        vertical-align: top;\n",
       "    }\n",
       "\n",
       "    .dataframe thead th {\n",
       "        text-align: right;\n",
       "    }\n",
       "</style>\n",
       "<table border=\"1\" class=\"dataframe\">\n",
       "  <thead>\n",
       "    <tr style=\"text-align: right;\">\n",
       "      <th></th>\n",
       "      <th>OBJECTID</th>\n",
       "      <th>STATE_CODE_001</th>\n",
       "      <th>STATUS</th>\n",
       "      <th>BRIDGE_CONDITION</th>\n",
       "      <th>DECK_COND_058</th>\n",
       "      <th>FEATURES_DESC_006A</th>\n",
       "      <th>FACILITY_CARRIED_007</th>\n",
       "      <th>LOCATION_009</th>\n",
       "      <th>SUPERSTRUCTURE_COND_059</th>\n",
       "      <th>ADT_029</th>\n",
       "      <th>FED_AGENCY</th>\n",
       "      <th>RECORD_TYPE_005A</th>\n",
       "      <th>TOLL_020</th>\n",
       "      <th>MAINTENANCE_021</th>\n",
       "      <th>OWNER_022</th>\n",
       "      <th>YEAR_BUILT_027</th>\n",
       "      <th>FUNCTIONAL_CLASS_026</th>\n",
       "      <th>TRAFFIC_DIRECTION_102</th>\n",
       "      <th>STRUCTURE_KIND_043A</th>\n",
       "      <th>STRUCTURE_TYPE_043B</th>\n",
       "    </tr>\n",
       "  </thead>\n",
       "  <tbody>\n",
       "    <tr>\n",
       "      <th>0</th>\n",
       "      <td>1</td>\n",
       "      <td>Alabama</td>\n",
       "      <td>ST</td>\n",
       "      <td>G</td>\n",
       "      <td>7</td>\n",
       "      <td>PERDIDO CREEK</td>\n",
       "      <td>IRR BIA RTE 4007</td>\n",
       "      <td>11.4KM NW OF ATMORE  AL</td>\n",
       "      <td>7</td>\n",
       "      <td>50</td>\n",
       "      <td>Y</td>\n",
       "      <td>On the structure</td>\n",
       "      <td>Toll-free</td>\n",
       "      <td>None</td>\n",
       "      <td>Bureau of Indian Affairs</td>\n",
       "      <td>1999</td>\n",
       "      <td>Local</td>\n",
       "      <td>Two-way traffic</td>\n",
       "      <td>Prestressed concrete</td>\n",
       "      <td>Box Beam or Girders - Multiple</td>\n",
       "    </tr>\n",
       "    <tr>\n",
       "      <th>1</th>\n",
       "      <td>2</td>\n",
       "      <td>Alabama</td>\n",
       "      <td>ST</td>\n",
       "      <td>F</td>\n",
       "      <td>7</td>\n",
       "      <td>PERDIDO CREEK</td>\n",
       "      <td>IRR BIA RTE 4003</td>\n",
       "      <td>ON LYNN MCGEE ROAD</td>\n",
       "      <td>6</td>\n",
       "      <td>159</td>\n",
       "      <td>Y</td>\n",
       "      <td>On the structure</td>\n",
       "      <td>Toll-free</td>\n",
       "      <td>None</td>\n",
       "      <td>Bureau of Indian Affairs</td>\n",
       "      <td>2002</td>\n",
       "      <td>Local</td>\n",
       "      <td>Two-way traffic</td>\n",
       "      <td>Prestressed concrete</td>\n",
       "      <td>Slab</td>\n",
       "    </tr>\n",
       "    <tr>\n",
       "      <th>2</th>\n",
       "      <td>3</td>\n",
       "      <td>Alabama</td>\n",
       "      <td>ST</td>\n",
       "      <td>F</td>\n",
       "      <td>5</td>\n",
       "      <td>UCHEE CREEK</td>\n",
       "      <td>101ST AIRBORNE RD</td>\n",
       "      <td>3.4 KM S OF SUNSHINE RD</td>\n",
       "      <td>5</td>\n",
       "      <td>375</td>\n",
       "      <td>Y</td>\n",
       "      <td>On the structure</td>\n",
       "      <td>Toll-free</td>\n",
       "      <td>None</td>\n",
       "      <td>Army</td>\n",
       "      <td>1942</td>\n",
       "      <td>Local</td>\n",
       "      <td>Two-way traffic</td>\n",
       "      <td>Concrete</td>\n",
       "      <td>Tee Beam</td>\n",
       "    </tr>\n",
       "    <tr>\n",
       "      <th>3</th>\n",
       "      <td>4</td>\n",
       "      <td>Alabama</td>\n",
       "      <td>AM</td>\n",
       "      <td>G</td>\n",
       "      <td>7</td>\n",
       "      <td>LITTLE BEAR CR. DAM SPW</td>\n",
       "      <td>CO. RD 88</td>\n",
       "      <td>LITTLE BEAR CR DAM</td>\n",
       "      <td>7</td>\n",
       "      <td>205</td>\n",
       "      <td>Y</td>\n",
       "      <td>On the structure</td>\n",
       "      <td>Toll-free</td>\n",
       "      <td>None</td>\n",
       "      <td>Tennessee Valley Authority</td>\n",
       "      <td>1974</td>\n",
       "      <td>Minor Collector</td>\n",
       "      <td>Two-way traffic</td>\n",
       "      <td>Prestressed concrete</td>\n",
       "      <td>Box Beam or Girders - Multiple</td>\n",
       "    </tr>\n",
       "    <tr>\n",
       "      <th>4</th>\n",
       "      <td>5</td>\n",
       "      <td>Alabama</td>\n",
       "      <td>MM</td>\n",
       "      <td>F</td>\n",
       "      <td>5</td>\n",
       "      <td>TENNESSEE RIVER</td>\n",
       "      <td>SR 101</td>\n",
       "      <td>ON WHEELER DAM</td>\n",
       "      <td>6</td>\n",
       "      <td>5358</td>\n",
       "      <td>Y</td>\n",
       "      <td>On the structure</td>\n",
       "      <td>Toll-free</td>\n",
       "      <td>None</td>\n",
       "      <td>Tennessee Valley Authority</td>\n",
       "      <td>1937</td>\n",
       "      <td>Minor Arterial</td>\n",
       "      <td>Two-way traffic</td>\n",
       "      <td>Steel</td>\n",
       "      <td>Truss - Thru</td>\n",
       "    </tr>\n",
       "  </tbody>\n",
       "</table>\n",
       "</div>"
      ],
      "text/plain": [
       "   OBJECTID STATE_CODE_001 STATUS BRIDGE_CONDITION DECK_COND_058  \\\n",
       "0         1        Alabama     ST                G             7   \n",
       "1         2        Alabama     ST                F             7   \n",
       "2         3        Alabama     ST                F             5   \n",
       "3         4        Alabama     AM                G             7   \n",
       "4         5        Alabama     MM                F             5   \n",
       "\n",
       "        FEATURES_DESC_006A FACILITY_CARRIED_007             LOCATION_009  \\\n",
       "0            PERDIDO CREEK     IRR BIA RTE 4007  11.4KM NW OF ATMORE  AL   \n",
       "1            PERDIDO CREEK     IRR BIA RTE 4003       ON LYNN MCGEE ROAD   \n",
       "2              UCHEE CREEK    101ST AIRBORNE RD  3.4 KM S OF SUNSHINE RD   \n",
       "3  LITTLE BEAR CR. DAM SPW            CO. RD 88       LITTLE BEAR CR DAM   \n",
       "4          TENNESSEE RIVER               SR 101           ON WHEELER DAM   \n",
       "\n",
       "  SUPERSTRUCTURE_COND_059  ADT_029 FED_AGENCY  RECORD_TYPE_005A   TOLL_020  \\\n",
       "0                       7       50          Y  On the structure  Toll-free   \n",
       "1                       6      159          Y  On the structure  Toll-free   \n",
       "2                       5      375          Y  On the structure  Toll-free   \n",
       "3                       7      205          Y  On the structure  Toll-free   \n",
       "4                       6     5358          Y  On the structure  Toll-free   \n",
       "\n",
       "  MAINTENANCE_021                   OWNER_022  YEAR_BUILT_027  \\\n",
       "0            None    Bureau of Indian Affairs            1999   \n",
       "1            None    Bureau of Indian Affairs            2002   \n",
       "2            None                        Army            1942   \n",
       "3            None  Tennessee Valley Authority            1974   \n",
       "4            None  Tennessee Valley Authority            1937   \n",
       "\n",
       "  FUNCTIONAL_CLASS_026 TRAFFIC_DIRECTION_102   STRUCTURE_KIND_043A  \\\n",
       "0                Local       Two-way traffic  Prestressed concrete   \n",
       "1                Local       Two-way traffic  Prestressed concrete   \n",
       "2                Local       Two-way traffic              Concrete   \n",
       "3      Minor Collector       Two-way traffic  Prestressed concrete   \n",
       "4       Minor Arterial       Two-way traffic                 Steel   \n",
       "\n",
       "              STRUCTURE_TYPE_043B  \n",
       "0  Box Beam or Girders - Multiple  \n",
       "1                            Slab  \n",
       "2                        Tee Beam  \n",
       "3  Box Beam or Girders - Multiple  \n",
       "4                    Truss - Thru  "
      ]
     },
     "execution_count": 56,
     "metadata": {},
     "output_type": "execute_result"
    }
   ],
   "source": [
    "df = pd.read_sql(\"\"\"\n",
    "SELECT * FROM bridges\n",
    "\"\"\", connection)\n",
    "df.head()"
   ]
  },
  {
   "cell_type": "code",
   "execution_count": null,
   "metadata": {},
   "outputs": [],
   "source": []
  },
  {
   "cell_type": "markdown",
   "metadata": {},
   "source": [
    "This dataset is the National Bridge Inventory, which is about the condition of bridges in the United States. Here are details of some of the columns:\n",
    "\n",
    "### `bridges` table\n",
    "\n",
    "- **STATE_CODE_001**: The state the bridge is in\n",
    "- **BRIDGE_CONDITION:**\n",
    "    - **G (Good):** The bridge's structural components are in good condition with no significant problems.\n",
    "    - **F (Fair):** The bridge shows minor deterioration or issues but remains structurally sound.\n",
    "    - **P (Poor):** Significant deterioration is present, and the bridge requires repair or replacement.\n",
    "- **Status**:    \n",
    "    - **AM: Active and Maintained**, Likely indicates the bridge is actively in use and properly maintained.\n",
    "    - **MM: Maintenance Needed, Minor**, Suggests the bridge is in use but requires minor maintenance.\n",
    "    - **ST: Structurally Deficient**, Indicates the bridge is operational but has structural issues that need attention.\n",
    "    - **XX: Out of Service**, Likely indicates the bridge is closed or no longer in service.\n",
    "\n",
    "### `road_details` table\n",
    "\n",
    "- **state_name:** The state the bridge is in\n",
    "- **road_mi:** The number of miles of road in that state"
   ]
  },
  {
   "cell_type": "markdown",
   "metadata": {},
   "source": [
    "### Using SQL, return all of the bridges with a deck condition score less than 2"
   ]
  },
  {
   "cell_type": "code",
   "execution_count": null,
   "metadata": {},
   "outputs": [],
   "source": []
  },
  {
   "cell_type": "markdown",
   "metadata": {},
   "source": [
    "### Using SQL, how many bridges are in the United States?"
   ]
  },
  {
   "cell_type": "code",
   "execution_count": null,
   "metadata": {},
   "outputs": [],
   "source": []
  },
  {
   "cell_type": "markdown",
   "metadata": {},
   "source": [
    "### Using SQL, how many bridges are in each state?"
   ]
  },
  {
   "cell_type": "code",
   "execution_count": null,
   "metadata": {},
   "outputs": [],
   "source": []
  },
  {
   "cell_type": "markdown",
   "metadata": {},
   "source": [
    "### Using SQL, which state has the most bridges in Poor condition?"
   ]
  },
  {
   "cell_type": "code",
   "execution_count": null,
   "metadata": {},
   "outputs": [],
   "source": []
  },
  {
   "cell_type": "markdown",
   "metadata": {},
   "source": [
    "### Using SQL, what is the average number of miles of road for a US state?"
   ]
  },
  {
   "cell_type": "code",
   "execution_count": null,
   "metadata": {},
   "outputs": [],
   "source": []
  },
  {
   "cell_type": "markdown",
   "metadata": {},
   "source": [
    "### Using SQL, make a dataframe of each state's name, the total miles of roads and the total number of bridges in each state\n",
    "\n",
    "Do this in a single SQL query."
   ]
  },
  {
   "cell_type": "code",
   "execution_count": null,
   "metadata": {},
   "outputs": [],
   "source": []
  },
  {
   "cell_type": "markdown",
   "metadata": {},
   "source": [
    "### How did you feel about this section? What did you know? What was tough? What was something you feel like you know but you just couldn't make work?\n",
    "\n",
    "Write your answer as a comment in the cell below"
   ]
  },
  {
   "cell_type": "code",
   "execution_count": null,
   "metadata": {},
   "outputs": [],
   "source": []
  },
  {
   "cell_type": "markdown",
   "metadata": {},
   "source": [
    "# 📝📝📝 Scraping!\n",
    "\n",
    "**🚨🚨🚨You can turn on your internet🚨🚨🚨**, but you can only access the page(s) mentioned below.\n",
    "\n",
    "This one uses BeautifulSoup."
   ]
  },
  {
   "cell_type": "markdown",
   "metadata": {},
   "source": [
    "### Scrape all of the headlines from https://elpais.com/us/"
   ]
  },
  {
   "cell_type": "code",
   "execution_count": null,
   "metadata": {},
   "outputs": [],
   "source": []
  },
  {
   "cell_type": "markdown",
   "metadata": {},
   "source": [
    "### Scrape all of the stories from https://elpais.com/us/ into a dataframe"
   ]
  },
  {
   "cell_type": "code",
   "execution_count": null,
   "metadata": {},
   "outputs": [],
   "source": []
  },
  {
   "cell_type": "code",
   "execution_count": null,
   "metadata": {},
   "outputs": [],
   "source": []
  },
  {
   "cell_type": "markdown",
   "metadata": {},
   "source": [
    "### How did you feel about this section? What did you know? What was tough? What was something you feel like you know but you just couldn't make work?\n",
    "\n",
    "Write your answer as a comment in the cell below"
   ]
  },
  {
   "cell_type": "markdown",
   "metadata": {},
   "source": [
    "# 📝📝📝 More scraping!\n",
    "\n",
    "**🚨🚨🚨You can turn on your internet🚨🚨🚨**, but you can only access the page(s) mentioned below.\n",
    "\n",
    "This one uses Playwright."
   ]
  },
  {
   "cell_type": "markdown",
   "metadata": {},
   "source": [
    "### Open up Chromium and visit https://www.elicense.ct.gov/lookup/licenselookup.aspx"
   ]
  },
  {
   "cell_type": "code",
   "execution_count": null,
   "metadata": {},
   "outputs": [],
   "source": []
  },
  {
   "cell_type": "markdown",
   "metadata": {},
   "source": [
    "### Search for `ADULT-USE CANNABIS MICRO-CULTIVATOR`s with an active permit.\n",
    "\n",
    "The \"License type\" field is a dropdown, even if it doesn't look like one. It's technically a *multi-select* dropdown, but it works the same way."
   ]
  },
  {
   "cell_type": "code",
   "execution_count": null,
   "metadata": {},
   "outputs": [],
   "source": []
  },
  {
   "cell_type": "markdown",
   "metadata": {},
   "source": [
    "### Save the results as a CSV named `micro.csv`"
   ]
  },
  {
   "cell_type": "code",
   "execution_count": null,
   "metadata": {},
   "outputs": [],
   "source": []
  },
  {
   "cell_type": "markdown",
   "metadata": {},
   "source": [
    "### How did you feel about this section? What did you know? What was tough? What was something you feel like you know but you just couldn't make work?\n",
    "\n",
    "Write your answer as a comment in the cell below"
   ]
  },
  {
   "cell_type": "code",
   "execution_count": null,
   "metadata": {},
   "outputs": [],
   "source": []
  }
 ],
 "metadata": {
  "kernelspec": {
   "display_name": "Python 3 (ipykernel)",
   "language": "python",
   "name": "python3"
  },
  "language_info": {
   "codemirror_mode": {
    "name": "ipython",
    "version": 3
   },
   "file_extension": ".py",
   "mimetype": "text/x-python",
   "name": "python",
   "nbconvert_exporter": "python",
   "pygments_lexer": "ipython3",
   "version": "3.10.13"
  }
 },
 "nbformat": 4,
 "nbformat_minor": 4
}
